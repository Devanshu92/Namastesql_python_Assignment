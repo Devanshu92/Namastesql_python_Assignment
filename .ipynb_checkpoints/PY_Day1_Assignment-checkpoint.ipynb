{
 "cells": [
  {
   "cell_type": "markdown",
   "id": "19facf9b",
   "metadata": {},
   "source": [
    "# Write a program to take 2 input from users , weight and height and print the BMI"
   ]
  },
  {
   "cell_type": "code",
   "execution_count": 93,
   "id": "81fa4d67",
   "metadata": {},
   "outputs": [
    {
     "name": "stdout",
     "output_type": "stream",
     "text": [
      "Enter your weight in Kg - 85\n",
      "Enter your height in meters - 1.8\n",
      "26.23\n"
     ]
    }
   ],
   "source": [
    "weight = float(input(\"Enter your weight in Kg - \"))\n",
    "height = float(input(\"Enter your height in meters - \"))\n",
    "BMI = round(weight/(height**2),2)\n",
    "print(BMI)"
   ]
  },
  {
   "cell_type": "markdown",
   "id": "679c9263",
   "metadata": {},
   "source": [
    "# write a program which takes the name of the user as input and replace all the occurence of character 'a' in the name to 'b' and print it."
   ]
  },
  {
   "cell_type": "code",
   "execution_count": 57,
   "id": "8fe704db",
   "metadata": {},
   "outputs": [
    {
     "name": "stdout",
     "output_type": "stream",
     "text": [
      "Enter your name - teastasareateare\n",
      "tebstbsbrebtebre\n"
     ]
    }
   ],
   "source": [
    "input_name = input(\"Enter your name - \")\n",
    "output = input_name.replace('a','b')\n",
    "print(output)"
   ]
  },
  {
   "cell_type": "markdown",
   "id": "65173a7f",
   "metadata": {},
   "source": [
    "# write a program which takes 2 inputs from user as principle amount (int) and rate of annual interest (float) and print the expected total amount  after  2 years."
   ]
  },
  {
   "cell_type": "code",
   "execution_count": 66,
   "id": "3e047a8e",
   "metadata": {},
   "outputs": [
    {
     "name": "stdout",
     "output_type": "stream",
     "text": [
      "Enter the principle amount - 10000\n",
      "Enter the rate of interest - 10\n",
      "12000.0\n"
     ]
    }
   ],
   "source": [
    "principle = int(input(\"Enter the principle amount - \"))\n",
    "roi = float(input(\"Enter the rate of interest - \"))\n",
    "total_amount = principle + ((principle*roi*2)/100)\n",
    "print(total_amount)"
   ]
  },
  {
   "cell_type": "markdown",
   "id": "26f0d336",
   "metadata": {},
   "source": [
    "# write a program which takes city name from user input. irrespective of in which case user enters the city name, print the city name in camel case meaning first letter should be capital and rest in small."
   ]
  },
  {
   "cell_type": "code",
   "execution_count": 3,
   "id": "7c87a417",
   "metadata": {},
   "outputs": [
    {
     "name": "stdout",
     "output_type": "stream",
     "text": [
      "Enter the city name - DELHI\n",
      "Delhi\n",
      "Delhi\n"
     ]
    }
   ],
   "source": [
    "city_name = input(\"Enter the city name - \")\n",
    "camel_case = city_name[0].upper()+city_name[1:].lower()\n",
    "print(camel_case)\n",
    "another_method = city_name.capitalize()\n",
    "print(another_method)"
   ]
  },
  {
   "cell_type": "markdown",
   "id": "f204152e",
   "metadata": {},
   "source": [
    "# write a program which takes the name of the user as input and print the index of character 'a' in the string. if 'a' is not there then return -1."
   ]
  },
  {
   "cell_type": "code",
   "execution_count": 6,
   "id": "590fd8eb",
   "metadata": {},
   "outputs": [
    {
     "name": "stdout",
     "output_type": "stream",
     "text": [
      "enter your name David\n"
     ]
    },
    {
     "data": {
      "text/plain": [
       "1"
      ]
     },
     "execution_count": 6,
     "metadata": {},
     "output_type": "execute_result"
    }
   ],
   "source": [
    "input_name = input(\"enter your name \")\n",
    "input_name.find('a')"
   ]
  },
  {
   "cell_type": "markdown",
   "id": "1096a1c7",
   "metadata": {},
   "source": [
    "# Display the number of letters in the below string\n",
    "# my_word = \"antidisestablishmentarianism\" \n"
   ]
  },
  {
   "cell_type": "code",
   "execution_count": 91,
   "id": "6ddd698d",
   "metadata": {},
   "outputs": [
    {
     "name": "stdout",
     "output_type": "stream",
     "text": [
      "28\n"
     ]
    }
   ],
   "source": [
    "my_word = \"antidisestablishmentarianism\"\n",
    "print(len(my_word))"
   ]
  },
  {
   "cell_type": "markdown",
   "id": "184775dc",
   "metadata": {},
   "source": [
    "# Take 3 inputs from user : first name , last name and age . Display the information in below format\n",
    "# exmaple \n",
    "# first name : MOhit\n",
    "# last name : sharma \n",
    "# age 32\n",
    "\n",
    "# Display : my name is Mohit Sharma and I am 32 years old."
   ]
  },
  {
   "cell_type": "code",
   "execution_count": 85,
   "id": "403537a2",
   "metadata": {},
   "outputs": [
    {
     "name": "stdout",
     "output_type": "stream",
     "text": [
      "Enter your first name mohit\n",
      "Enter your last name sharma\n",
      "Enter your age 32\n",
      "my name is Mohit Sharma and I am 32 years old\n",
      "my name is Mohit Sharma and I am 32 years old\n",
      "my name is Mohit Sharma and I am 32 years old\n"
     ]
    }
   ],
   "source": [
    "first_name = input(\"Enter your first name \")\n",
    "last_name = input(\"Enter your last name \")\n",
    "age = input(\"Enter your age \")\n",
    "print('my name is ' + first_name.capitalize() + ' ' + last_name.capitalize() + ' and I am ' + age + ' years old')\n",
    "print('my name is {} {} and I am {} years old'.format(first_name.capitalize(),last_name.capitalize(),age))\n",
    "print(f'my name is {first_name.capitalize()} {last_name.capitalize()} and I am {age} years old')\n"
   ]
  },
  {
   "cell_type": "markdown",
   "id": "1a14e901",
   "metadata": {},
   "source": [
    "# Take 3 inputs from user : first name , last name and company name. create the email alias for the user and display it.  Email alias is first 2 letters of first name , last 3 letters of last name and @company.com\n",
    "# example \n",
    "# first name : MOhit\n",
    "# last name : sharma \n",
    "# company : infosys\n",
    "# Display : morma@infosys.com \n",
    "# note full email id should -be in lower case\n"
   ]
  },
  {
   "cell_type": "code",
   "execution_count": 1,
   "id": "7e1d2c91",
   "metadata": {},
   "outputs": [
    {
     "name": "stdout",
     "output_type": "stream",
     "text": [
      "Enter your first name Mohit\n",
      "Enter your last name Sharma\n",
      "Enter your company nameInfosys\n",
      "morma@infosys.com\n"
     ]
    }
   ],
   "source": [
    "first_name = input(\"Enter your first name \")\n",
    "last_name = input(\"Enter your last name \")\n",
    "company = input(\"Enter your company name\")\n",
    "email_id = first_name[0:2].lower() + last_name[-3:].lower() + '@' + company.lower() + '.com'\n",
    "print(email_id)"
   ]
  },
  {
   "cell_type": "code",
   "execution_count": null,
   "id": "dd38e870",
   "metadata": {},
   "outputs": [],
   "source": []
  }
 ],
 "metadata": {
  "kernelspec": {
   "display_name": "Python 3 (ipykernel)",
   "language": "python",
   "name": "python3"
  },
  "language_info": {
   "codemirror_mode": {
    "name": "ipython",
    "version": 3
   },
   "file_extension": ".py",
   "mimetype": "text/x-python",
   "name": "python",
   "nbconvert_exporter": "python",
   "pygments_lexer": "ipython3",
   "version": "3.10.9"
  }
 },
 "nbformat": 4,
 "nbformat_minor": 5
}
